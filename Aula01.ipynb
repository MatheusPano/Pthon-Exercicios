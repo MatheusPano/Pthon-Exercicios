{
 "cells": [
  {
   "cell_type": "code",
   "execution_count": null,
   "metadata": {},
   "outputs": [],
   "source": [
    "import decimal\n",
    "import os\n",
    "\n",
    "os.system(\"cls\")\n",
    "x = 23\n",
    "y = 1.05\n",
    "d = decimal.Decimal(23)/decimal.Decimal(\"1.05\")\n",
    "\n",
    "print(x/y)\n",
    "print(d)"
   ]
  },
  {
   "cell_type": "code",
   "execution_count": null,
   "metadata": {},
   "outputs": [],
   "source": [
    "nome = \"aaaaaaaaaaaa\"\n",
    "print(\"Olá {nome} Mundo\")"
   ]
  },
  {
   "cell_type": "code",
   "execution_count": null,
   "metadata": {},
   "outputs": [],
   "source": [
    "s = \"Joao da Silva\"\n",
    "print(s[0])\n",
    "print(s[9:11])"
   ]
  },
  {
   "cell_type": "code",
   "execution_count": null,
   "metadata": {},
   "outputs": [],
   "source": [
    "s=\"aeiou\"\n",
    "\n",
    "print(s[-2])\n",
    "print(s[0]*20)\n",
    "print(\"a\" in s)\n",
    "print(\"x\" not in s)"
   ]
  },
  {
   "cell_type": "code",
   "execution_count": null,
   "metadata": {},
   "outputs": [],
   "source": [
    "num1 = float(input(\"informe o primeiro valor: \"))\n",
    "num2 = float(input(\"informe o primeiro valor: \"))\n",
    "\n",
    "soma = (num1 + num2)\n",
    "print(\"soma = %2f\" %soma)"
   ]
  },
  {
   "cell_type": "code",
   "execution_count": null,
   "metadata": {},
   "outputs": [],
   "source": [
    "\n",
    "str1 = \"German Cano\"\n",
    "for c in str1:\n",
    "    print(c)\n",
    "for c in str1:\n",
    "     print(c, end=' ')\n",
    "\n",
    "\n"
   ]
  },
  {
   "cell_type": "code",
   "execution_count": null,
   "metadata": {},
   "outputs": [],
   "source": [
    "str1 = \"Joao da silva\"\n",
    "for c in str1:\n",
    "    print(c, end=' ')\n"
   ]
  },
  {
   "cell_type": "code",
   "execution_count": null,
   "metadata": {},
   "outputs": [],
   "source": [
    "# Recebe base e altura e calcula area do triangulo\n",
    "\n",
    "base = float(input(\"Qual o valor da base do triangulo: \"))\n",
    "altura = float(input(\"Qual a altura do triangulo: \"))\n",
    "\n",
    "resultado = (base*altura)/2\n",
    "print(\"A area desse triangulo é de -> \", resultado)"
   ]
  },
  {
   "cell_type": "code",
   "execution_count": 32,
   "metadata": {},
   "outputs": [
    {
     "name": "stdout",
     "output_type": "stream",
     "text": [
      "O imc dessa pessoa é de -> 29.211373175292316\n",
      "Excesso de peso\n"
     ]
    }
   ],
   "source": [
    "# Calculo do imc\n",
    "\n",
    "peso = float(input(\"Qual o peso da pessoa: \"))\n",
    "altura = float(input(\"Qual a altura da pessoa: \"))\n",
    "\n",
    "imc = (peso/(altura*altura))\n",
    "print(\"O imc dessa pessoa é de ->\", imc)\n",
    "\n",
    "if imc < 18.5:\n",
    "    print(\"Abaixo do peso normal\")\n",
    "elif 18.5 < imc < 24.9:\n",
    "    print(\"Peso Normal\")\n",
    "elif 25 < imc < 29.9:\n",
    "    print(\"Excesso de peso\")\n",
    "elif 30 < imc < 34.9:\n",
    "    print(\"Obesidade de classe I\")\n",
    "elif 35 < imc < 39.9:\n",
    "    print(\"Obesidade de Classe II\")\n",
    "elif imc >=40:\n",
    "    print(\"Obesidade Classe III\")\n"
   ]
  },
  {
   "cell_type": "code",
   "execution_count": 35,
   "metadata": {},
   "outputs": [
    {
     "name": "stdout",
     "output_type": "stream",
     "text": [
      "6.54\n"
     ]
    }
   ],
   "source": [
    "# Calculo de aumento de preço\n",
    "\n",
    "preco = float(input(\"Qual o preço atual do produto: \"))\n",
    "\n",
    "aumento = preco*0.12\n",
    "novoPreco = preco + aumento\n",
    "\n",
    "print(round(novoPreco,2))"
   ]
  },
  {
   "cell_type": "code",
   "execution_count": 38,
   "metadata": {},
   "outputs": [
    {
     "name": "stdout",
     "output_type": "stream",
     "text": [
      "0\n",
      "1\n",
      "2\n",
      "3\n",
      "4\n"
     ]
    }
   ],
   "source": [
    "import os\n",
    "os.system(\"cls\")\n",
    "\n",
    "for i in range(5):\n",
    "    print(i)"
   ]
  },
  {
   "cell_type": "code",
   "execution_count": 39,
   "metadata": {},
   "outputs": [
    {
     "name": "stdout",
     "output_type": "stream",
     "text": [
      "1\n",
      "3\n",
      "5\n",
      "7\n",
      "9\n"
     ]
    }
   ],
   "source": [
    "import os\n",
    "os.system(\"cls\")\n",
    "\n",
    "for i in range(1,10,2):\n",
    "    print(i)"
   ]
  },
  {
   "cell_type": "code",
   "execution_count": 41,
   "metadata": {},
   "outputs": [],
   "source": [
    "import os\n",
    "os.system(\"cls\")\n",
    "\n",
    "for i in range(10,1,-1):\n",
    "    print(i)"
   ]
  },
  {
   "cell_type": "code",
   "execution_count": 45,
   "metadata": {},
   "outputs": [
    {
     "name": "stdout",
     "output_type": "stream",
     "text": [
      "Posicao: 1, Valor: a\n",
      "Posicao: 2, Valor: b\n",
      "Posicao: 3, Valor: c\n",
      "Posicao: 4, Valor: d\n",
      "Posicao: 5, Valor: e\n",
      "Posicao: 6, Valor: f\n",
      "Posicao: 7, Valor: g\n",
      "Posicao: 8, Valor: h\n"
     ]
    },
    {
     "ename": "NameError",
     "evalue": "name 'HH' is not defined",
     "output_type": "error",
     "traceback": [
      "\u001b[1;31m---------------------------------------------------------------------------\u001b[0m",
      "\u001b[1;31mNameError\u001b[0m                                 Traceback (most recent call last)",
      "\u001b[1;32mc:\\Users\\2840482011042\\Desktop\\Python-codes\\Aula01.ipynb Célula: 14\u001b[0m in \u001b[0;36m<cell line: 7>\u001b[1;34m()\u001b[0m\n\u001b[0;32m      <a href='vscode-notebook-cell:/c%3A/Users/2840482011042/Desktop/Python-codes/Aula01.ipynb#X20sZmlsZQ%3D%3D?line=4'>5</a>\u001b[0m \u001b[39mfor\u001b[39;00m pos, valor \u001b[39min\u001b[39;00m \u001b[39menumerate\u001b[39m(dados):\n\u001b[0;32m      <a href='vscode-notebook-cell:/c%3A/Users/2840482011042/Desktop/Python-codes/Aula01.ipynb#X20sZmlsZQ%3D%3D?line=5'>6</a>\u001b[0m     \u001b[39mprint\u001b[39m(\u001b[39m\"\u001b[39m\u001b[39mPosicao: \u001b[39m\u001b[39m{0}\u001b[39;00m\u001b[39m, Valor: \u001b[39m\u001b[39m{1}\u001b[39;00m\u001b[39m\"\u001b[39m\u001b[39m.\u001b[39mformat(pos\u001b[39m+\u001b[39m\u001b[39m1\u001b[39m,valor))\n\u001b[1;32m----> <a href='vscode-notebook-cell:/c%3A/Users/2840482011042/Desktop/Python-codes/Aula01.ipynb#X20sZmlsZQ%3D%3D?line=6'>7</a>\u001b[0m HH\n",
      "\u001b[1;31mNameError\u001b[0m: name 'HH' is not defined"
     ]
    }
   ],
   "source": [
    "\n",
    "\n",
    "dados = \"abcdefgh\"\n",
    "for pos, valor in enumerate(dados):\n",
    "    print(\"Posicao: {0}, Valor: {1}\".format(pos+1,valor))\n",
    "\n",
    "\n"
   ]
  }
 ],
 "metadata": {
  "kernelspec": {
   "display_name": "Python 3.10.6 64-bit",
   "language": "python",
   "name": "python3"
  },
  "language_info": {
   "codemirror_mode": {
    "name": "ipython",
    "version": 3
   },
   "file_extension": ".py",
   "mimetype": "text/x-python",
   "name": "python",
   "nbconvert_exporter": "python",
   "pygments_lexer": "ipython3",
   "version": "3.10.6"
  },
  "orig_nbformat": 4,
  "vscode": {
   "interpreter": {
    "hash": "6eafa4abd16b296f9256dbd9c652ecee17fe99fbd0abdabd4904445de4858d89"
   }
  }
 },
 "nbformat": 4,
 "nbformat_minor": 2
}
